{
 "cells": [
  {
   "cell_type": "code",
   "execution_count": 16,
   "metadata": {},
   "outputs": [],
   "source": [
    "import pandas as pd"
   ]
  },
  {
   "cell_type": "markdown",
   "metadata": {},
   "source": [
    "#### Load Data"
   ]
  },
  {
   "cell_type": "code",
   "execution_count": 17,
   "metadata": {},
   "outputs": [],
   "source": [
    "def load_data():\n",
    "    sales_url = 'https://api.iea.org/evs?parameters=EV%20sales&category=Historical&mode=Cars&csv=true'\n",
    "    charging_points_url = 'https://api.iea.org/evs?parameters=EV%20charging%20points&category=Historical&mode=EV&csv=true'\n",
    "    \n",
    "    ev_sales_df = pd.read_csv(sales_url)\n",
    "    ev_charging_points_df = pd.read_csv(charging_points_url)\n",
    "    \n",
    "    return ev_sales_df, ev_charging_points_df\n",
    "\n",
    "ev_sales_df, ev_charging_points_df = load_data()"
   ]
  },
  {
   "cell_type": "markdown",
   "metadata": {},
   "source": [
    "#### Classify Columns (Categorical vs Numerical)"
   ]
  },
  {
   "cell_type": "code",
   "execution_count": 18,
   "metadata": {},
   "outputs": [],
   "source": [
    "def classify_columns(df):\n",
    "    categorical_cols = df.select_dtypes(include=['object', 'category']).columns\n",
    "    numerical_cols = df.select_dtypes(include=['number']).columns\n",
    "    \n",
    "    categorical_info = {col: df[col].unique().tolist() for col in categorical_cols}\n",
    "    \n",
    "    return {\n",
    "        'categorical': list(categorical_cols),\n",
    "        'numerical': list(numerical_cols),\n",
    "        'categorical_classes': categorical_info\n",
    "    }\n",
    "\n",
    "sales_classification = classify_columns(ev_sales_df)\n",
    "charging_points_classification = classify_columns(ev_charging_points_df)"
   ]
  },
  {
   "cell_type": "code",
   "execution_count": null,
   "metadata": {},
   "outputs": [],
   "source": [
    "print('EV Sales DataFrame Column Classification:')\n",
    "print(sales_classification)"
   ]
  },
  {
   "cell_type": "code",
   "execution_count": null,
   "metadata": {},
   "outputs": [],
   "source": [
    "print('\\nEV Charging Points DataFrame Column Classification:')\n",
    "print(charging_points_classification)"
   ]
  },
  {
   "cell_type": "markdown",
   "metadata": {},
   "source": [
    "#### Data Exploration"
   ]
  },
  {
   "cell_type": "code",
   "execution_count": null,
   "metadata": {},
   "outputs": [],
   "source": [
    "for col in ev_sales_df.columns:\n",
    "    print(col)\n",
    "    print(ev_sales_df[col].unique())\n",
    "    print('')"
   ]
  },
  {
   "cell_type": "markdown",
   "metadata": {},
   "source": [
    "#### Create clean df for sales data"
   ]
  },
  {
   "cell_type": "code",
   "execution_count": null,
   "metadata": {},
   "outputs": [],
   "source": [
    "def load_sales_data():\n",
    "    sales_df = ev_sales_df[ev_sales_df['parameter'] == 'EV sales']    \n",
    "    sales_df = sales_df[sales_df['powertrain'] == 'BEV']    \n",
    "    cols_to_keep = ['region', 'year', 'value']\n",
    "    sales_df = sales_df[cols_to_keep]\n",
    "    \n",
    "    return sales_df\n",
    "\n",
    "sales_df = load_sales_data()\n",
    "print(sales_df)\n"
   ]
  },
  {
   "cell_type": "markdown",
   "metadata": {},
   "source": [
    "#### Summary Data"
   ]
  },
  {
   "cell_type": "code",
   "execution_count": null,
   "metadata": {},
   "outputs": [],
   "source": [
    "ev_sales_df.head(15)"
   ]
  },
  {
   "cell_type": "code",
   "execution_count": null,
   "metadata": {},
   "outputs": [],
   "source": [
    "def load_summary_data(df):\n",
    "    sales_df = df[df['parameter'] == 'EV sales'].copy()\n",
    "    \n",
    "    summary_df = sales_df[['region', 'year', 'powertrain', 'value']]\n",
    "    \n",
    "    summary_df.rename(columns={'value': 'units_sold'}, inplace=True)\n",
    "    \n",
    "    summary_df.loc[:, 'units_sold'] = summary_df['units_sold'].astype(int)\n",
    "    \n",
    "    return summary_df\n",
    "\n",
    "summary_data = load_summary_data(ev_sales_df)\n",
    "print(summary_data)"
   ]
  }
 ],
 "metadata": {
  "kernelspec": {
   "display_name": "venv",
   "language": "python",
   "name": "python3"
  },
  "language_info": {
   "codemirror_mode": {
    "name": "ipython",
    "version": 3
   },
   "file_extension": ".py",
   "mimetype": "text/x-python",
   "name": "python",
   "nbconvert_exporter": "python",
   "pygments_lexer": "ipython3",
   "version": "3.12.2"
  }
 },
 "nbformat": 4,
 "nbformat_minor": 2
}
